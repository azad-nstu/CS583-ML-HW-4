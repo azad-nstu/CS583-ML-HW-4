{
 "cells": [
  {
   "cell_type": "code",
   "execution_count": 2,
   "id": "9d0a41b1-b823-47d9-a483-9e3d6afbfca0",
   "metadata": {},
   "outputs": [
    {
     "name": "stdout",
     "output_type": "stream",
     "text": [
      "Datasets saved as 'Arithmetic_Sequences.csv' and 'Key_Sequences.csv'.\n"
     ]
    }
   ],
   "source": [
    "import pandas as pd\n",
    "import random\n",
    "\n",
    "# Generate Arithmetic Operations sequences with two patterns\n",
    "arithmetic_sequences = []\n",
    "\n",
    "for i in range(100):\n",
    "    pattern_type = i % 2  # Define 2 types of patterns\n",
    "    sequence = []\n",
    "    if pattern_type == 0:  # Alternating differences (e.g., +5, -3, +5, -3)\n",
    "        start = random.randint(500, 1000)\n",
    "        diff1, diff2 = random.randint(1, 10), random.randint(-10, -1)\n",
    "        sequence = [start]\n",
    "        while len(sequence) < 100:\n",
    "            next_value = sequence[-1] + (diff1 if len(sequence) % 2 == 1 else diff2)\n",
    "            if next_value <= 0:\n",
    "                next_value = random.randint(1, 100)  # Reset to positive if needed\n",
    "            sequence.append(next_value)\n",
    "    elif pattern_type == 1:  # Repeating fixed difference (e.g., +7, +7, +7, ...)\n",
    "        start = random.randint(500, 1000)\n",
    "        diff = random.randint(1, 20)\n",
    "        sequence = [start]\n",
    "        for _ in range(99):\n",
    "            next_value = sequence[-1] + diff\n",
    "            if next_value <= 0:\n",
    "                next_value = random.randint(1, 100)  # Reset to positive if needed\n",
    "            sequence.append(next_value)\n",
    "    arithmetic_sequences.append(sequence)\n",
    "\n",
    "# Generate Key Sequences with two patterns\n",
    "keyboard_keys = ['Q', 'W', 'E', 'R', 'T', 'Y']\n",
    "key_sequences = []\n",
    "\n",
    "for i in range(100):\n",
    "    pattern_type = i % 2  # Define 2 types of patterns\n",
    "    sequence = []\n",
    "    if pattern_type == 0:  # Alternating pattern\n",
    "        sequence = [keyboard_keys[j % len(keyboard_keys)] for j in range(100)]\n",
    "    elif pattern_type == 1:  # Gradual shifts\n",
    "        start_index = random.randint(0, len(keyboard_keys) - 1)\n",
    "        sequence = [keyboard_keys[(start_index + j) % len(keyboard_keys)] for j in range(100)]\n",
    "    key_sequences.append(sequence)\n",
    "\n",
    "# Create DataFrames\n",
    "arithmetic_df = pd.DataFrame(arithmetic_sequences).add_prefix(\"Arithmetic_\")\n",
    "key_df = pd.DataFrame(key_sequences).add_prefix(\"Key_Sequences_\")\n",
    "\n",
    "# Save to CSV\n",
    "arithmetic_df.to_csv(\"Patterned_Arithmetic_Sequences.csv\", index=False)\n",
    "key_df.to_csv(\"Patterned_Key_Sequences.csv\", index=False)\n",
    "\n",
    "print(\"Datasets saved as 'Arithmetic_Sequences.csv' and 'Key_Sequences.csv'.\")"
   ]
  },
  {
   "cell_type": "code",
   "execution_count": null,
   "id": "4b505711-b940-40f8-afd8-534e6ba50cf3",
   "metadata": {},
   "outputs": [],
   "source": []
  }
 ],
 "metadata": {
  "kernelspec": {
   "display_name": "Python 3 (ipykernel)",
   "language": "python",
   "name": "python3"
  },
  "language_info": {
   "codemirror_mode": {
    "name": "ipython",
    "version": 3
   },
   "file_extension": ".py",
   "mimetype": "text/x-python",
   "name": "python",
   "nbconvert_exporter": "python",
   "pygments_lexer": "ipython3",
   "version": "3.12.5"
  }
 },
 "nbformat": 4,
 "nbformat_minor": 5
}
